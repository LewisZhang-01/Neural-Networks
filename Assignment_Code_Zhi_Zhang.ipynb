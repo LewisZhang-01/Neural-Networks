{
 "cells": [
  {
   "cell_type": "markdown",
   "id": "4ea0cd19-d84c-44a8-8070-a05746939d67",
   "metadata": {
    "tags": []
   },
   "source": [
    "# Programming Assignment\n",
    "Student Name: Zhi Zhang<br/>\n",
    "Student Number: 18210054"
   ]
  },
  {
   "cell_type": "code",
   "execution_count": 1,
   "id": "387aa032-4638-4d2e-a76c-bc61b97d4b16",
   "metadata": {},
   "outputs": [],
   "source": [
    "import pandas as pd\n",
    "import numpy as np\n",
    "import math\n",
    "import string\n",
    "import matplotlib.pyplot as plt\n",
    "%matplotlib inline \n",
    "from collections import Counter\n",
    "from sklearn.model_selection import train_test_split\n",
    "from sklearn.metrics import mean_squared_error\n",
    "from sklearn.preprocessing import LabelBinarizer "
   ]
  },
  {
   "cell_type": "markdown",
   "id": "9cccde46-396d-4d97-9b62-8069ce2a4564",
   "metadata": {
    "tags": []
   },
   "source": [
    "## Build up a neural network"
   ]
  },
  {
   "cell_type": "code",
   "execution_count": 23,
   "id": "2ccddd02-697f-44d6-8955-c3aebe571c2c",
   "metadata": {},
   "outputs": [],
   "source": [
    "class NeuralNetwork:   \n",
    "    def __init__(self, NI, NH, NO, activation='sigmoid'):  \n",
    "        self.NI = NI        # Number of inputs\n",
    "        self.NH = NH        # Number of hidden units\n",
    "        self.NO = NO        # number of outputs\n",
    "        self.W1 = np.array  # Array containing the weights in the lower layer\n",
    "        self.W2 = np.array  # Array containing the weights in the upper layer\n",
    "        self.dW1 = np.array # Arrays containing the weight *changes* to be applied onto W1\n",
    "        self.dW2 = np.array # Arrays containing the weight *changes* to be applied onto W2\n",
    "        self.Z1 = np.array  # Arrays containing the activations for the lower layer\n",
    "        self.Z2 = np.array  # Array containing the activations for the upper layer\n",
    "        self.H = np.array   # Array where the values of the hidden neurons are stored\n",
    "        self.O = np.array   # Array where the outputs are stored\n",
    "        \n",
    "        if activation == 'sigmoid':  \n",
    "            self.activation = self.sigmoid  \n",
    "            self.activation_deriv = self.sigmoid_derivative  \n",
    "        elif activation == 'tanh':   \n",
    "            self.activation = self.tanh  \n",
    "            self.activation_deriv = self.tanh_derivative\n",
    "    \n",
    "    def sigmoid(self, x):  \n",
    "        return 1/(1 + np.exp(-x))\n",
    "    \n",
    "    def sigmoid_derivative(self, x):  \n",
    "        return np.exp(-x) / (1 + np.exp(-x)) ** 2\n",
    "    \n",
    "    def tanh(self, x):  \n",
    "        return (2 / (1 + np.exp(x * -2))) - 1\n",
    "    \n",
    "    def tanh_derivative(self, x):  \n",
    "        return 1 - np.tanh(x)**2\n",
    "    \n",
    "    def randomise(self):      \n",
    "        # Hidden layer\n",
    "        self.W1 = np.random.uniform(-1, 1, (self.NI, self.NH))\n",
    "        # Output layer\n",
    "        self.W2 = np.random.uniform(-1, 1, (self.NH, self.NO))\n",
    "        self.dW1 = np.random.uniform(0, 0, (self.NI, self.NH))\n",
    "        self.dW2 = np.random.uniform(0, 0, (self.NH, self.NO))\n",
    "    \n",
    "    def forward(self, input_vectors):\n",
    "        self.Z1 = np.dot(input_vectors, self.W1)\n",
    "        self.H = self.activation(self.Z1)\n",
    "        self.Z2 = np.dot(self.H, self.W2)\n",
    "        self.O = self.activation(self.Z2)\n",
    "        return self.O        \n",
    "            \n",
    "    def backwards(self, deltas, input_vectors):\n",
    "        # Calculating delta from the second last level \n",
    "        deltas.append(deltas[-1].dot(self.W2.T)*self.activation_deriv(self.H))  \n",
    "\n",
    "        # Arranging deltas in the order of feed-forward neural networks\n",
    "        deltas.reverse()\n",
    "\n",
    "        layer =np.atleast_2d(input_vectors)\n",
    "        delta = np.atleast_2d(deltas[0]) \n",
    "        self.dW1 = layer.T.dot(delta) \n",
    "\n",
    "        layer =np.atleast_2d(self.H)\n",
    "        delta = np.atleast_2d(deltas[1])\n",
    "        self.dW2 = layer.T.dot(delta) \n",
    "        return deltas\n",
    "    \n",
    "    def update_weights(self, learning_rate):\n",
    "        self.W1 = np.add(self.W1, learning_rate * self.dW1)\n",
    "        self.W2 = np.add(self.W2, learning_rate * self.dW2)\n",
    "        self.dW1 = np.array\n",
    "        self.dW2 = np.array\n",
    "    \n",
    "    def train(self, X, y, learning_rate=0.05, epochs=100000, detail=False, error_threshold=10000, log=None):     \n",
    "        self.randomise()\n",
    "        X = np.array(X)                 \n",
    "        y = np.array(y)\n",
    "        errors = []\n",
    "        for e in range(epochs):  \n",
    "            # Random select a sample\n",
    "            i = np.random.randint(X.shape[0])   \n",
    "            \n",
    "            self.forward(X[i])\n",
    "            \n",
    "            # Calculate the last layer error\n",
    "            error = y[i] - self.O  \n",
    "            deltas = [error * self.activation_deriv(self.O)]\n",
    "    \n",
    "            self.backwards(deltas,X[i])\n",
    "            self.update_weights(learning_rate)\n",
    "            \n",
    "            if (detail == True) & (e % error_threshold == 0):\n",
    "                print('Epoch: {} \\t Loss: {}'.format(e,np.round(error,5)), file=log)\n",
    "                errors.append(error)\n",
    "        return errors\n",
    "    \n",
    "    def predict(self, inputs):                 \n",
    "        return self.forward(np.array(inputs))"
   ]
  },
  {
   "cell_type": "markdown",
   "id": "31dd6e3e-237c-44a1-a0c0-eb77fef1ea9e",
   "metadata": {
    "tags": []
   },
   "source": [
    "## Regular Test"
   ]
  },
  {
   "cell_type": "markdown",
   "id": "a7fcfa78-9c6b-4088-8406-e9fc18be2f96",
   "metadata": {
    "tags": []
   },
   "source": [
    "### 1&2. Train NN on XOR function and test accuracy\n",
    "1. **Train an MLP with 2 inputs, 3-4+ hidden units and one output on XOR function.**\n",
    "    <br/>((0, 0), 0)\n",
    "    <br/>((0, 1), 1)\n",
    "    <br/>((1, 0), 1)\n",
    "    <br/>((1, 1), 0)\n",
    "2. **At the end of training, check if the MLP predicts correctly all the examples.**\n",
    "    "
   ]
  },
  {
   "cell_type": "code",
   "execution_count": 3,
   "id": "80bcc8be-13df-43c1-88c7-d988e02b12f1",
   "metadata": {},
   "outputs": [
    {
     "name": "stdout",
     "output_type": "stream",
     "text": [
      "XOR\n",
      "\n",
      "\n",
      "************* Training *************\n",
      "\n",
      "Epoch: 0 \t Loss: [1.42588]\n",
      "Epoch: 1000 \t Loss: [0.25699]\n",
      "Epoch: 2000 \t Loss: [0.07589]\n",
      "Epoch: 3000 \t Loss: [0.]\n",
      "Epoch: 4000 \t Loss: [0.02537]\n",
      "Epoch: 5000 \t Loss: [0.]\n",
      "Epoch: 6000 \t Loss: [0.01712]\n",
      "Epoch: 7000 \t Loss: [0.01335]\n",
      "Epoch: 8000 \t Loss: [0.]\n",
      "Epoch: 9000 \t Loss: [0.00975]\n",
      "\n",
      "*************** Test ***************\n",
      "\n",
      "[0 0] -> [0] \t Expect Output: [0] \t Actual Output: [0.]\n",
      "[0 1] -> [1] \t Expect Output: [1] \t Actual Output: [0.99141]\n",
      "[1 0] -> [1] \t Expect Output: [1] \t Actual Output: [0.99103]\n",
      "[1 1] -> [0] \t Expect Output: [0] \t Actual Output: [0.01158]\n",
      "\n"
     ]
    }
   ],
   "source": [
    "NN = NeuralNetwork(NI = 2, NH = 10, NO = 1, activation = 'tanh')\n",
    "\n",
    "X = np.array([[0, 0], \n",
    "              [0, 1], \n",
    "              [1, 0], \n",
    "              [1, 1]])\n",
    "\n",
    "y = np.array([0, 1, 1, 0])\n",
    "\n",
    "XOR_log = open(\"XOR_log.txt\", \"w\")\n",
    "print(\"XOR\\n\", file=XOR_log)\n",
    "\n",
    "print('\\n************* Training *************\\n', file=XOR_log)\n",
    "errors = NN.train(X, y, learning_rate=0.05, epochs=10000, detail=True, error_threshold=1000, log=XOR_log)\n",
    "\n",
    "print('\\n*************** Test ***************\\n', file=XOR_log)\n",
    "results = []\n",
    "for in_, out_ in zip(X,y):\n",
    "    pred = NN.predict(in_)\n",
    "    results.append(pred)\n",
    "    result = 1 if pred > 0.5 else 0\n",
    "    print('{} -> [{}] \\t Expect Output: [{}] \\t Actual Output: {}'.format(in_, result, out_, np.round(pred,5)), file=XOR_log)\n",
    "\n",
    "XOR_log.close()\n",
    "f = open(\"XOR_log.txt\", \"r\")\n",
    "print(f.read())"
   ]
  },
  {
   "cell_type": "code",
   "execution_count": 4,
   "id": "f816f4b8-a528-472c-b6ab-ccba1d053a0c",
   "metadata": {},
   "outputs": [
    {
     "data": {
      "image/png": "[encoded data removed]",
      "text/plain": [
       "<Figure size 576x360 with 1 Axes>"
      ]
     },
     "metadata": {
      "needs_background": "light"
     },
     "output_type": "display_data"
    }
   ],
   "source": [
    "plt.figure(figsize=(8, 5))\n",
    "plt.plot(errors)\n",
    "plt.xlabel(\"Epochs number\")\n",
    "plt.ylabel(\"Error\")\n",
    "plt.title(\"Epochs v.s. Error\")\n",
    "plt.xticks(list(range(10)), np.arange(0,10000,1000))\n",
    "plt.show()"
   ]
  },
  {
   "cell_type": "code",
   "execution_count": 5,
   "id": "709610a4-ce75-43b2-97e9-e0d4b49ca3d5",
   "metadata": {},
   "outputs": [
    {
     "data": {
      "image/png": "[encoded data removed]",
      "text/plain": [
       "<Figure size 576x576 with 1 Axes>"
      ]
     },
     "metadata": {},
     "output_type": "display_data"
    }
   ],
   "source": [
    "# Plot\n",
    "N = 255\n",
    "x1 = np.linspace(-1,3,N)\n",
    "x2 = np.linspace(-1,3,N)\n",
    "image= np.zeros((N,N))\n",
    "for i in range(N):\n",
    "    for j in range(N):\n",
    "        X_temp=[x1[i],x2[j]]\n",
    "\n",
    "        y_temp=NN.predict(X_temp)\n",
    "        if y_temp < 0.5:\n",
    "            image[i,N-1-j] = 50\n",
    "        else:   \n",
    "            image[i,N-1-j] = 100\n",
    "\n",
    "I = image.T\n",
    "for i in range(len(results)):          \n",
    "    indexi = int(np.round((X[i,0]+1)*254/4))\n",
    "    indexj = int(np.round((X[i,1]+1)*254/4))\n",
    "    if results[i] < 0.5:\n",
    "        I[N-1-indexj-2:N-1-indexj+2,indexi-2:indexi+2]=255\n",
    "    else:   \n",
    "        I[N-1-indexj-2:N-1-indexj+2,indexi-2:indexi+2]=0\n",
    "plt.figure(figsize=(8, 8))\n",
    "plt.imshow(I)\n",
    "plt.xticks([])\n",
    "plt.yticks([]);"
   ]
  },
  {
   "cell_type": "markdown",
   "id": "0c590a24-6fc7-4c16-8fab-1c5ec65586a3",
   "metadata": {
    "tags": []
   },
   "source": [
    "### 3&4\n",
    "3. Generate 500 vectors containing 4 components each. The value of each component should be a random number between -1 and 1. These will be your input vectors. The corresponding output for each vector should be the sin() of a combination of the components. \n",
    "\n",
    "    Specifically, for inputs: [x1 x2 x3 x4] the (single component) output should be: sin(x1-x2+x3-x4). \n",
    "    \n",
    "    Now train an MLP with 4 inputs, at least 5 hidden units and one output on 400 of these examples and keep the remaining 100 for testing.\n",
    "\n",
    "4. What is the error on training at the end? How does it compare with the error on the test set? Do you think you have learned satisfactorily?"
   ]
  },
  {
   "cell_type": "markdown",
   "id": "b3d67f5d-da42-42a3-a0bd-95c89784e363",
   "metadata": {},
   "source": [
    "Generate input data: a `500*4` matrix with random values between `-1` and `1`"
   ]
  },
  {
   "cell_type": "code",
   "execution_count": 6,
   "id": "fc41d3b0-03b4-4167-b19a-1df05f16cfd6",
   "metadata": {},
   "outputs": [
    {
     "name": "stdout",
     "output_type": "stream",
     "text": [
      "(500, 4)\n"
     ]
    },
    {
     "data": {
      "text/plain": [
       "array([[-0.08137603,  0.57316526,  0.54258297,  0.91568197],\n",
       "       [ 0.47871433, -0.78603084, -0.45667646, -0.73795333],\n",
       "       [-0.59095378,  0.90550617,  0.91306626, -0.24684514],\n",
       "       ...,\n",
       "       [-0.07572471, -0.07272949, -0.12389602, -0.82771176],\n",
       "       [-0.60445419,  0.92594712,  0.76990473, -0.02777421],\n",
       "       [ 0.91328673, -0.93766239, -0.17073829,  0.64027805]])"
      ]
     },
     "execution_count": 6,
     "metadata": {},
     "output_type": "execute_result"
    }
   ],
   "source": [
    "input_data = np.random.uniform(size = (500,4), low = -1, high = 1)\n",
    "print(input_data.shape)\n",
    "input_data"
   ]
  },
  {
   "cell_type": "markdown",
   "id": "6f64289d-fc07-476d-892a-c511256ad20e",
   "metadata": {},
   "source": [
    "Generate output data: `sin(x1-x2+x3-x4)`"
   ]
  },
  {
   "cell_type": "code",
   "execution_count": 7,
   "id": "5b905218-3f6f-4cf9-9e67-8e8dce00f8fe",
   "metadata": {
    "tags": []
   },
   "outputs": [
    {
     "name": "stdout",
     "output_type": "stream",
     "text": [
      "(500, 1)\n"
     ]
    }
   ],
   "source": [
    "def sin_each(x):\n",
    "    return [math.sin(x[0]-x[1]+x[2]-x[3])]\n",
    "output_data = np.array(list(map(sin_each, input_data)))\n",
    "print(output_data.shape)"
   ]
  },
  {
   "cell_type": "markdown",
   "id": "28fc1878-1463-494f-a86f-b2a5fb650387",
   "metadata": {},
   "source": [
    "The split dataset makes it `400 training sets` and `100 test sets`."
   ]
  },
  {
   "cell_type": "code",
   "execution_count": 8,
   "id": "e31b6ccc-ca66-4b94-89f1-900895a28f86",
   "metadata": {},
   "outputs": [],
   "source": [
    "X_train, X_test, y_train, y_test = train_test_split(input_data, output_data, test_size=0.2, random_state=42)"
   ]
  },
  {
   "cell_type": "markdown",
   "id": "af5561fe-1009-47b9-b629-d6e82ca1b765",
   "metadata": {},
   "source": [
    "Now train a MLP with `4 inputs`, `at least 5 hidden units` and `1 output` on 400 of these examples"
   ]
  },
  {
   "cell_type": "code",
   "execution_count": 9,
   "id": "df67b9b6-d800-4019-8852-1a577dbd2944",
   "metadata": {
    "tags": []
   },
   "outputs": [
    {
     "name": "stdout",
     "output_type": "stream",
     "text": [
      "SIN\n",
      "\n",
      "\n",
      "************* Training *************\n",
      "Epoch: 0 \t Loss: [1.46085]\n",
      "Epoch: 10000 \t Loss: [0.10912]\n",
      "Epoch: 20000 \t Loss: [-0.00702]\n",
      "Epoch: 30000 \t Loss: [0.00816]\n",
      "Epoch: 40000 \t Loss: [-0.02094]\n",
      "Epoch: 50000 \t Loss: [0.00897]\n",
      "Epoch: 60000 \t Loss: [-0.04861]\n",
      "Epoch: 70000 \t Loss: [0.08656]\n",
      "Epoch: 80000 \t Loss: [-0.05076]\n",
      "Epoch: 90000 \t Loss: [-0.08769]\n",
      "\n",
      "The RMSE of \"training set\" is 0.07 \tAccuracy = 0.94\n",
      "\n",
      "*************** Test ***************\n",
      "\n",
      "The RMSE of \"test set\" is 0.07 \tAccuracy = 0.94\n",
      "\n"
     ]
    }
   ],
   "source": [
    "def accuracy(test, pred):\n",
    "    acc = 1 - np.abs(test - pred).mean()\n",
    "    rmse = math.sqrt(mean_squared_error(test, pred))\n",
    "    return [acc,rmse]\n",
    "\n",
    "NN = NeuralNetwork(NI = 4, NH = 10, NO = 1, activation = 'tanh')\n",
    "\n",
    "SIN_log = open(\"SIN_log.txt\", \"w\")\n",
    "print(\"SIN\\n\", file=SIN_log)\n",
    "\n",
    "print('\\n************* Training *************', file=SIN_log)\n",
    "errors = NN.train(X_train, y_train, learning_rate=0.05, epochs=100000, detail=True, log=SIN_log)\n",
    "results = []\n",
    "for x in X_train:\n",
    "    results.append(NN.predict(x))\n",
    "acc, rmse = accuracy(y_train, results)\n",
    "print('\\nThe RMSE of \\\"training set\\\" is {} \\tAccuracy = {}'.format(np.round(rmse,2), np.round(acc,2)), file=SIN_log)\n",
    "    \n",
    "print('\\n*************** Test ***************', file=SIN_log)\n",
    "results = []\n",
    "for x in X_test:\n",
    "    results.append(NN.predict(x))\n",
    "    \n",
    "acc, rmse = accuracy(y_test, results)\n",
    "print('\\nThe RMSE of \\\"test set\\\" is {} \\tAccuracy = {}'.format(np.round(rmse,2), np.round(acc,2)), file=SIN_log)\n",
    "\n",
    "SIN_log.close()\n",
    "f = open(\"SIN_log.txt\", \"r\")\n",
    "print(f.read())"
   ]
  },
  {
   "cell_type": "code",
   "execution_count": 10,
   "id": "d4b9e770-99b4-453d-ae94-71d4a053f3c8",
   "metadata": {},
   "outputs": [
    {
     "data": {
      "image/png": "[encoded data removed]",
      "text/plain": [
       "<Figure size 576x360 with 1 Axes>"
      ]
     },
     "metadata": {
      "needs_background": "light"
     },
     "output_type": "display_data"
    }
   ],
   "source": [
    "plt.figure(figsize=(8, 5))\n",
    "plt.plot(errors)\n",
    "plt.xlabel(\"Epochs number\")\n",
    "plt.ylabel(\"Error\")\n",
    "plt.title(\"Epochs v.s. Error\")\n",
    "plt.xticks(list(range(10)), np.arange(0,100000,10000))\n",
    "plt.show()"
   ]
  },
  {
   "cell_type": "markdown",
   "id": "2322da3d-4612-4755-95a7-83857d268eef",
   "metadata": {
    "tags": []
   },
   "source": [
    "## Special Test "
   ]
  },
  {
   "cell_type": "markdown",
   "id": "13bd4939-9387-4cff-b978-10dad796d41f",
   "metadata": {
    "tags": []
   },
   "source": [
    "### Letter Recognition\n",
    "First we read data set"
   ]
  },
  {
   "cell_type": "code",
   "execution_count": 11,
   "id": "cc71cb60-01e1-4333-b020-066bc277daa3",
   "metadata": {},
   "outputs": [
    {
     "name": "stdout",
     "output_type": "stream",
     "text": [
      "(20000, 17)\n"
     ]
    },
    {
     "data": {
      "text/html": [
       "<div>\n",
       "<style scoped>\n",
       "    .dataframe tbody tr th:only-of-type {\n",
       "        vertical-align: middle;\n",
       "    }\n",
       "\n",
       "    .dataframe tbody tr th {\n",
       "        vertical-align: top;\n",
       "    }\n",
       "\n",
       "    .dataframe thead th {\n",
       "        text-align: right;\n",
       "    }\n",
       "</style>\n",
       "<table border=\"1\" class=\"dataframe\">\n",
       "  <thead>\n",
       "    <tr style=\"text-align: right;\">\n",
       "      <th></th>\n",
       "      <th>0</th>\n",
       "      <th>1</th>\n",
       "      <th>2</th>\n",
       "      <th>3</th>\n",
       "      <th>4</th>\n",
       "      <th>5</th>\n",
       "      <th>6</th>\n",
       "      <th>7</th>\n",
       "      <th>8</th>\n",
       "      <th>9</th>\n",
       "      <th>10</th>\n",
       "      <th>11</th>\n",
       "      <th>12</th>\n",
       "      <th>13</th>\n",
       "      <th>14</th>\n",
       "      <th>15</th>\n",
       "      <th>16</th>\n",
       "    </tr>\n",
       "  </thead>\n",
       "  <tbody>\n",
       "    <tr>\n",
       "      <th>0</th>\n",
       "      <td>T</td>\n",
       "      <td>2</td>\n",
       "      <td>8</td>\n",
       "      <td>3</td>\n",
       "      <td>5</td>\n",
       "      <td>1</td>\n",
       "      <td>8</td>\n",
       "      <td>13</td>\n",
       "      <td>0</td>\n",
       "      <td>6</td>\n",
       "      <td>6</td>\n",
       "      <td>10</td>\n",
       "      <td>8</td>\n",
       "      <td>0</td>\n",
       "      <td>8</td>\n",
       "      <td>0</td>\n",
       "      <td>8</td>\n",
       "    </tr>\n",
       "    <tr>\n",
       "      <th>1</th>\n",
       "      <td>I</td>\n",
       "      <td>5</td>\n",
       "      <td>12</td>\n",
       "      <td>3</td>\n",
       "      <td>7</td>\n",
       "      <td>2</td>\n",
       "      <td>10</td>\n",
       "      <td>5</td>\n",
       "      <td>5</td>\n",
       "      <td>4</td>\n",
       "      <td>13</td>\n",
       "      <td>3</td>\n",
       "      <td>9</td>\n",
       "      <td>2</td>\n",
       "      <td>8</td>\n",
       "      <td>4</td>\n",
       "      <td>10</td>\n",
       "    </tr>\n",
       "    <tr>\n",
       "      <th>2</th>\n",
       "      <td>D</td>\n",
       "      <td>4</td>\n",
       "      <td>11</td>\n",
       "      <td>6</td>\n",
       "      <td>8</td>\n",
       "      <td>6</td>\n",
       "      <td>10</td>\n",
       "      <td>6</td>\n",
       "      <td>2</td>\n",
       "      <td>6</td>\n",
       "      <td>10</td>\n",
       "      <td>3</td>\n",
       "      <td>7</td>\n",
       "      <td>3</td>\n",
       "      <td>7</td>\n",
       "      <td>3</td>\n",
       "      <td>9</td>\n",
       "    </tr>\n",
       "    <tr>\n",
       "      <th>3</th>\n",
       "      <td>N</td>\n",
       "      <td>7</td>\n",
       "      <td>11</td>\n",
       "      <td>6</td>\n",
       "      <td>6</td>\n",
       "      <td>3</td>\n",
       "      <td>5</td>\n",
       "      <td>9</td>\n",
       "      <td>4</td>\n",
       "      <td>6</td>\n",
       "      <td>4</td>\n",
       "      <td>4</td>\n",
       "      <td>10</td>\n",
       "      <td>6</td>\n",
       "      <td>10</td>\n",
       "      <td>2</td>\n",
       "      <td>8</td>\n",
       "    </tr>\n",
       "    <tr>\n",
       "      <th>4</th>\n",
       "      <td>G</td>\n",
       "      <td>2</td>\n",
       "      <td>1</td>\n",
       "      <td>3</td>\n",
       "      <td>1</td>\n",
       "      <td>1</td>\n",
       "      <td>8</td>\n",
       "      <td>6</td>\n",
       "      <td>6</td>\n",
       "      <td>6</td>\n",
       "      <td>6</td>\n",
       "      <td>5</td>\n",
       "      <td>9</td>\n",
       "      <td>1</td>\n",
       "      <td>7</td>\n",
       "      <td>5</td>\n",
       "      <td>10</td>\n",
       "    </tr>\n",
       "  </tbody>\n",
       "</table>\n",
       "</div>"
      ],
      "text/plain": [
       "  0   1   2   3   4   5   6   7   8   9   10  11  12  13  14  15  16\n",
       "0  T   2   8   3   5   1   8  13   0   6   6  10   8   0   8   0   8\n",
       "1  I   5  12   3   7   2  10   5   5   4  13   3   9   2   8   4  10\n",
       "2  D   4  11   6   8   6  10   6   2   6  10   3   7   3   7   3   9\n",
       "3  N   7  11   6   6   3   5   9   4   6   4   4  10   6  10   2   8\n",
       "4  G   2   1   3   1   1   8   6   6   6   6   5   9   1   7   5  10"
      ]
     },
     "execution_count": 11,
     "metadata": {},
     "output_type": "execute_result"
    }
   ],
   "source": [
    "df = pd.read_csv('letter-recognition.data',header=None)\n",
    "print(df.shape)\n",
    "df.head()"
   ]
  },
  {
   "cell_type": "code",
   "execution_count": 12,
   "id": "134368a2-30bb-47db-a9b2-9bce71e2a588",
   "metadata": {},
   "outputs": [
    {
     "data": {
      "text/plain": [
       "array([0, 0, 0, 0, 0, 0, 0, 0, 0, 0, 0, 0, 0, 0, 0, 0, 0, 0, 0, 1, 0, 0,\n",
       "       0, 0, 0, 0])"
      ]
     },
     "execution_count": 12,
     "metadata": {},
     "output_type": "execute_result"
    }
   ],
   "source": [
    "# Take first letters column\n",
    "letters = df[0].values\n",
    "\n",
    "# ord() function takes string argument of a single Unicode character \n",
    "# and return its integer Unicode code point value,\n",
    "# Since letter `A` is 65, we start from it.\n",
    "for i in range(len(letters)):\n",
    "    letters[i] = ord(letters[i]) - ord('A')\n",
    "\n",
    "# Assign back to dataframe\n",
    "df[0] = letters\n",
    "\n",
    "X = np.array(df.loc[:,1:])\n",
    "y = np.array(df[0])\n",
    "\n",
    "labels= LabelBinarizer().fit_transform(y.astype('int'))\n",
    "labels[0]"
   ]
  },
  {
   "cell_type": "markdown",
   "id": "4d228432-3976-4cfa-9cae-e9eeb9d87032",
   "metadata": {},
   "source": [
    "Split the dataset in a training part containing approximately 4/5 of the records, and a testing part containing the rest.\n",
    "\n",
    "MLP should have as many inputs as there are attributes (17), start at 10 hidden units and 26 outputs (one for each letter of the alphabet)."
   ]
  },
  {
   "cell_type": "code",
   "execution_count": 13,
   "id": "8a4b4f57-dc8e-4401-9ba5-00def816665d",
   "metadata": {
    "tags": []
   },
   "outputs": [
    {
     "name": "stderr",
     "output_type": "stream",
     "text": [
      "/var/folders/wx/jdk00pf51bj00q6tgsbrn_vr0000gn/T/ipykernel_73441/2971511375.py:24: RuntimeWarning: overflow encountered in exp\n",
      "  return 1/(1 + np.exp(-x))\n"
     ]
    },
    {
     "name": "stdout",
     "output_type": "stream",
     "text": [
      "Letter recognition\n",
      "\n",
      "Epoch: 0 \t Loss: [-0.32494 -0.14358 -0.39394 -0.56583 -0.20133 -0.67771 -0.22263 -0.60691\n",
      " -0.91344  0.93243 -0.70274 -0.68865 -0.41642 -0.80759 -0.83092 -0.91667\n",
      " -0.51315 -0.289   -0.29925 -0.58153 -0.60897 -0.73264 -0.72451 -0.34829\n",
      " -0.48309 -0.50663]\n",
      "Epoch: 10000 \t Loss: [-0.044   -0.04761 -0.02986 -0.0323  -0.04411 -0.03863 -0.03032 -0.04661\n",
      " -0.04501 -0.02931 -0.03217 -0.03444 -0.02762 -0.04101 -0.02811 -0.03656\n",
      " -0.03887 -0.0368  -0.03077 -0.03302  0.94781 -0.03184 -0.04478 -0.04744\n",
      " -0.03421 -0.04951]\n",
      "Epoch: 20000 \t Loss: [-0.0457  -0.04205 -0.04257 -0.06047 -0.04358 -0.0313  -0.03771  0.96342\n",
      " -0.04675 -0.0452  -0.03906 -0.05209 -0.02894 -0.03233 -0.03581 -0.03342\n",
      " -0.04779 -0.04568 -0.04095 -0.01847 -0.02325 -0.00928 -0.01611 -0.04017\n",
      " -0.0215  -0.04031]\n",
      "Epoch: 30000 \t Loss: [-0.04908 -0.03267 -0.0449  -0.05541 -0.04216 -0.01974 -0.06022 -0.04846\n",
      " -0.04764 -0.04147 -0.03251 -0.04332 -0.01373 -0.02978 -0.04396 -0.0295\n",
      " -0.06452 -0.04066 -0.04471 -0.01095 -0.0312  -0.00625 -0.00628 -0.0255\n",
      "  0.989   -0.0456 ]\n",
      "Epoch: 40000 \t Loss: [-0.01195 -0.01251 -0.01875 -0.01555 -0.0142  -0.04831 -0.00868 -0.0292\n",
      " -0.01302 -0.00625 -0.02545 -0.00717  0.76098 -0.14213 -0.02388 -0.09687\n",
      " -0.0088  -0.01682 -0.00398 -0.01936 -0.10532 -0.07608 -0.35639 -0.01782\n",
      " -0.01245 -0.00714]\n",
      "Epoch: 50000 \t Loss: [-0.0906  -0.07141 -0.04035 -0.04091  0.96701 -0.00645 -0.03803 -0.07022\n",
      " -0.03107 -0.02838 -0.09422 -0.02616 -0.09729 -0.0327  -0.0465  -0.00938\n",
      " -0.0607  -0.06802 -0.01251 -0.00662 -0.0157  -0.00616 -0.01933 -0.03619\n",
      " -0.00423 -0.01588]\n",
      "Epoch: 60000 \t Loss: [-1.1230e-02 -9.0370e-02  8.5126e-01 -3.5230e-02 -2.0650e-01 -2.4070e-02\n",
      " -5.9040e-02 -1.3990e-02 -5.3090e-02 -5.9150e-02 -1.9200e-02 -4.5100e-02\n",
      " -1.2500e-03 -6.9100e-03 -3.3260e-02 -2.0550e-02 -3.0670e-02 -3.7260e-02\n",
      " -1.0840e-01 -1.9360e-02 -1.5200e-02 -4.4900e-03 -6.7000e-04 -8.0860e-02\n",
      " -7.2600e-03 -1.7706e-01]\n",
      "Epoch: 70000 \t Loss: [-9.2400e-03 -1.0530e-02 -3.1200e-03 -5.2950e-02 -2.7800e-03 -5.6190e-02\n",
      " -1.1760e-02 -5.5800e-03 -2.4255e-01 -1.1524e-01 -2.1700e-03 -2.5750e-02\n",
      " -1.5000e-04 -2.4000e-04 -3.2170e-02  9.6288e-01 -1.0160e-02 -1.0290e-02\n",
      " -1.1420e-02 -2.7390e-02 -5.0000e-04 -7.9100e-03 -6.5000e-04 -3.0240e-02\n",
      " -6.6630e-02 -8.6800e-03]\n",
      "Epoch: 80000 \t Loss: [-5.3600e-03 -7.0680e-02  9.1726e-01 -7.5590e-02 -7.6660e-02 -1.8520e-02\n",
      " -8.3030e-02 -9.0600e-03 -6.9140e-02 -7.1830e-02 -1.1090e-02 -7.4800e-02\n",
      " -5.3000e-04 -1.6700e-03 -5.1160e-02 -2.2380e-02 -2.5500e-02 -2.6140e-02\n",
      " -6.9470e-02 -1.3910e-02 -1.0470e-02 -1.1600e-03 -1.6000e-04 -5.8970e-02\n",
      " -3.7500e-03 -7.3660e-02]\n",
      "Epoch: 90000 \t Loss: [-1.0800e-02 -2.7900e-03 -3.4600e-03 -4.4700e-03 -2.6900e-03 -1.8350e-02\n",
      " -6.4100e-03 -6.6120e-02 -5.8000e-04 -1.3900e-03 -2.5450e-02 -1.6000e-03\n",
      " -1.3491e-01 -1.2240e-01 -1.1460e-02  9.7137e-01 -8.4300e-03 -6.6300e-03\n",
      " -1.9500e-03 -1.7200e-02 -8.8910e-02 -8.0200e-02 -2.1126e-01 -6.4000e-03\n",
      " -2.1270e-02 -1.1500e-03]\n",
      "\n",
      "The accuracy of \"training set\" is 0.176 \n",
      "The accuracy of \"test set\" is 0.175\n",
      "\n"
     ]
    }
   ],
   "source": [
    "def predict_and_score(NN, X, y):\n",
    "    correct_num = 0\n",
    "    predict = NN.predict(X)\n",
    "    total = len(y)\n",
    "    for i in range(total):\n",
    "        if np.argmax(y[i]) == np.argmax(predict[i]):\n",
    "            correct_num += 1\n",
    "    return correct_num/total #accuracy\n",
    "\n",
    "def hyperparameter_tuning(NI, NH, NO, activation, learning_rate, epochs, X=X, labels=labels, log=None): \n",
    "    X_train, X_test, y_train, y_test = train_test_split(X, labels, test_size=0.2, random_state=42)\n",
    "    \n",
    "    NN = NeuralNetwork(NI, NH, NO, activation)\n",
    "\n",
    "    #print('\\n************* Training *************')\n",
    "    NN.train(X_train, y_train, learning_rate, epochs, detail=True, log=log)\n",
    "\n",
    "    #print('\\n*************** Test ***************')\n",
    "    train_score = predict_and_score(NN, X_train, y_train)\n",
    "    test_score = predict_and_score(NN, X_test, y_test)\n",
    "    print('\\nThe accuracy of \\\"training set\\\" is {} \\nThe accuracy of \\\"test set\\\" is {}'.format(train_score,test_score), file=log)\n",
    "    return test_score\n",
    "\n",
    "LR_log = open(\"Letter_recognition_log.txt\", \"w\")\n",
    "print(\"Letter recognition\\n\", file=LR_log)\n",
    "hyperparameter_tuning(NI = 16, NH = 10, NO = 26, activation = 'sigmoid', learning_rate = 0.05, epochs = 100000, log=LR_log)\n",
    "LR_log.close()\n",
    "f = open(\"Letter_recognition_log.txt\", \"r\")\n",
    "print(f.read())"
   ]
  },
  {
   "cell_type": "markdown",
   "id": "5c5e0ab2-63a1-45ee-8989-162fddbbcebb",
   "metadata": {},
   "source": [
    "⬇️ Cautious! It takes a long time to run! ~10 mins"
   ]
  },
  {
   "cell_type": "code",
   "execution_count": 14,
   "id": "a8936482-634d-4547-9898-282a524eec10",
   "metadata": {
    "tags": []
   },
   "outputs": [
    {
     "name": "stderr",
     "output_type": "stream",
     "text": [
      "/var/folders/wx/jdk00pf51bj00q6tgsbrn_vr0000gn/T/ipykernel_73441/2971511375.py:24: RuntimeWarning: overflow encountered in exp\n",
      "  return 1/(1 + np.exp(-x))\n"
     ]
    }
   ],
   "source": [
    "Rank_log = open(\"Rank_log.txt\", \"w\")\n",
    "print(\"Letter recognition - huperparameter tuning\\n\", file=Rank_log)\n",
    "rank = {}\n",
    "for NH in range(10,200,20):\n",
    "    for epochs in [1000,10000,100000,1000000]:\n",
    "        name = 'NH' + str(NH) + '_rate0.05_' + str(epochs) + 'eps_sigmoid'\n",
    "        print('\\n==================================================\\n\\n',name, file=Rank_log)\n",
    "        rank[name] = hyperparameter_tuning(NI = 16, NH = NH, NO = 26, activation = 'sigmoid', \n",
    "                                           learning_rate = 0.05, epochs = epochs, log=Rank_log)\n",
    "Rank_log.close()\n",
    "# f = open(\"Rank_log.txt\", \"r\")\n",
    "# print(f.read())"
   ]
  },
  {
   "cell_type": "code",
   "execution_count": 15,
   "id": "b1aef74d-6ba9-4443-af95-0fd0756eea6f",
   "metadata": {},
   "outputs": [
    {
     "data": {
      "text/plain": [
       "('NH170_rate0.05_1000000eps_sigmoid', 0.72525)"
      ]
     },
     "execution_count": 15,
     "metadata": {},
     "output_type": "execute_result"
    }
   ],
   "source": [
    "rank_sorted = sorted(rank.items(), key=lambda x: x[1], reverse=True)\n",
    "\n",
    "NH190 = []\n",
    "NH170 = []\n",
    "NH150 = []\n",
    "NH130 = []\n",
    "NH110 = []\n",
    "eps100 = []\n",
    "eps1k = []\n",
    "eps10k = []\n",
    "eps100k = []\n",
    "eps1m = []\n",
    "for i,v in rank.items():\n",
    "    if 'NH190' in i:\n",
    "        NH190.append(v)\n",
    "    elif 'NH170' in i:\n",
    "        NH170.append(v)\n",
    "    elif 'NH150' in i:\n",
    "        NH150.append(v)\n",
    "    elif 'NH130' in i:\n",
    "        NH130.append(v)\n",
    "    elif 'NH110' in i:\n",
    "        NH110.append(v)\n",
    "    if '100eps' in i:\n",
    "        eps100.append(v)\n",
    "    elif '1000eps' in i:\n",
    "        eps1k.append(v) \n",
    "    elif '10000eps' in i:\n",
    "        eps10k.append(v)\n",
    "    elif '100000eps' in i:\n",
    "        eps100k.append(v)\n",
    "    elif '1000000eps' in i:\n",
    "        eps1m.append(v)\n",
    "\n",
    "top = rank_sorted[0]\n",
    "top"
   ]
  },
  {
   "cell_type": "code",
   "execution_count": 16,
   "id": "9903e22c-a82f-4fb6-b30a-86007e9afa2d",
   "metadata": {},
   "outputs": [
    {
     "data": {
      "image/png": "[encoded data removed]",
      "text/plain": [
       "<Figure size 864x576 with 1 Axes>"
      ]
     },
     "metadata": {
      "needs_background": "light"
     },
     "output_type": "display_data"
    }
   ],
   "source": [
    "plt.figure(figsize=(12, 8))\n",
    "x = [1000,10000,100000,1000000]\n",
    "\n",
    "id = 110\n",
    "for y in [NH110,NH130,NH150,NH170,NH190]:\n",
    "    plt.plot(y,label = '{} hidden layers'.format(id))\n",
    "    id += 20\n",
    "    \n",
    "\n",
    "plt.xlabel(\"Epochs number\")\n",
    "plt.ylabel(\"Accuracy\")\n",
    "plt.title(\"Epochs v.s. Accuracy with different number of hidden lyaers\")\n",
    "plt.xticks(list(range(len(x))), x)\n",
    "plt.legend()\n",
    "plt.show()"
   ]
  },
  {
   "cell_type": "code",
   "execution_count": 17,
   "id": "3659a2f6-e9a7-4ee0-ac8f-17085c6c8d14",
   "metadata": {},
   "outputs": [
    {
     "data": {
      "image/png": "[encoded data removed]",
      "text/plain": [
       "<Figure size 864x576 with 1 Axes>"
      ]
     },
     "metadata": {
      "needs_background": "light"
     },
     "output_type": "display_data"
    }
   ],
   "source": [
    "plt.figure(figsize=(12, 8))\n",
    "x = np.arange(10,200,20)\n",
    "id = ['100','1k','10k','100k','1m']\n",
    "for y,i in zip([eps100,eps1k,eps10k,eps100k,eps1m],id):\n",
    "    plt.plot(y,label = '{} Epochs'.format(i))\n",
    "plt.xlabel(\"Hidden layer number\")\n",
    "plt.ylabel(\"Accuracy\")\n",
    "plt.title(\"Hidden layer numbers v.s. Accuracy with different number of epochs\")\n",
    "plt.xticks(list(range(len(x))), x)\n",
    "plt.legend(loc='upper left')\n",
    "plt.show()"
   ]
  },
  {
   "cell_type": "markdown",
   "id": "87bd6e32-936b-471f-991f-2422a13e09f6",
   "metadata": {},
   "source": [
    "Best parameters: `NH170_rate0.05_1000000eps_sigmoid`, 0.72525"
   ]
  },
  {
   "cell_type": "code",
   "execution_count": 18,
   "id": "a30d756c-67dd-449f-a396-29f522e96d24",
   "metadata": {
    "tags": []
   },
   "outputs": [
    {
     "name": "stderr",
     "output_type": "stream",
     "text": [
      "/var/folders/wx/jdk00pf51bj00q6tgsbrn_vr0000gn/T/ipykernel_73441/2971511375.py:24: RuntimeWarning: overflow encountered in exp\n",
      "  return 1/(1 + np.exp(-x))\n"
     ]
    },
    {
     "name": "stdout",
     "output_type": "stream",
     "text": [
      "The accuracy of \"training set\" is 0.7185 \n",
      "The accuracy of \"test set\" is 0.71625\n"
     ]
    }
   ],
   "source": [
    "X_train, X_test, y_train, y_test = train_test_split(X, labels, test_size=0.2, random_state=42)\n",
    "    \n",
    "NN = NeuralNetwork(16, 170, 26, \"sigmoid\")\n",
    "\n",
    "LR_log = open(\"Letter_recognition_log.txt\", \"w\")\n",
    "print(\"Letter recognition\\n\", file=LR_log)\n",
    "\n",
    "#print('\\n************* Training *************')\n",
    "NN.train(X_train, y_train, 0.05, 1000000, detail=True, log=LR_log)\n",
    "\n",
    "#print('\\n*************** Test ***************')\n",
    "train_score = predict_and_score(NN, X_train, y_train)\n",
    "test_score = predict_and_score(NN, X_test, y_test)\n",
    "print('\\nThe accuracy of \\\"training set\\\" is {} \\nThe accuracy of \\\"test set\\\" is {}'\n",
    "      .format(train_score,test_score), file=LR_log)\n",
    "LR_log.close()\n",
    "# Only print last 2 lines\n",
    "f = open(\"Letter_recognition_log.txt\", \"r\")\n",
    "for line in (f.readlines() [-2:]):\n",
    "    print(line, end ='')"
   ]
  },
  {
   "cell_type": "code",
   "execution_count": 19,
   "id": "c50571ff-59a2-47b2-bcfb-1a01a82395a9",
   "metadata": {},
   "outputs": [
    {
     "name": "stderr",
     "output_type": "stream",
     "text": [
      "/var/folders/wx/jdk00pf51bj00q6tgsbrn_vr0000gn/T/ipykernel_73441/2971511375.py:24: RuntimeWarning: overflow encountered in exp\n",
      "  return 1/(1 + np.exp(-x))\n"
     ]
    }
   ],
   "source": [
    "def to_character(output_vector):\n",
    "    output = []\n",
    "    for i in output_vector:\n",
    "        output.append(chr(np.argmax(i) + ord('A')))\n",
    "    return output\n",
    "\n",
    "predict = NN.predict(X_test)\n",
    "\n",
    "success_predicted = []\n",
    "for i,j in zip(y_test,predict):\n",
    "    if np.argmax(i) == np.argmax(j):\n",
    "        success_predicted.append(i)\n",
    "\n",
    "success_pred = to_character(success_predicted)\n",
    "test = to_character(y_test)"
   ]
  },
  {
   "cell_type": "code",
   "execution_count": 20,
   "id": "af86b4a8-819e-47cc-b10b-d1cfb4faf413",
   "metadata": {},
   "outputs": [],
   "source": [
    "test_count = sorted(Counter(test).items())\n",
    "pred_count = sorted(Counter(success_pred).items())\n",
    "\n",
    "pred_rate = {x : np.round(float(Counter(success_pred)[x])/Counter(test)[x],2) for x in Counter(test)}\n",
    "letter_recognition_rate = dict(sorted(pred_rate.items(),reverse=True))"
   ]
  },
  {
   "cell_type": "code",
   "execution_count": 21,
   "id": "d16ded8a-666a-4556-bd28-413192b10ab0",
   "metadata": {},
   "outputs": [
    {
     "data": {
      "image/png": "[encoded data removed]",
      "text/plain": [
       "<Figure size 864x576 with 1 Axes>"
      ]
     },
     "metadata": {
      "needs_background": "light"
     },
     "output_type": "display_data"
    }
   ],
   "source": [
    "fig, ax = plt.subplots(figsize = (12, 8))\n",
    "letters = list(string.ascii_uppercase)\n",
    "letters.reverse()\n",
    "plt.barh(range(len(letter_recognition_rate)), letter_recognition_rate.values(), color='darkcyan', align='center')\n",
    "plt.yticks(list(range(len(letters))), letters)\n",
    "for i, v in enumerate(letter_recognition_rate.values()):\n",
    "    ax.text(v+.005 , i-.3, str(v), color='blue')\n",
    "plt.xlabel(\"Accuracy (%)\")\n",
    "plt.ylabel(\"Letters\")\n",
    "plt.title(\"Letter Recognition Rate (%)\")\n",
    "ax.tick_params(axis='both', which='both', labelsize=12)\n",
    "plt.show()"
   ]
  }
 ],
 "metadata": {
  "kernelspec": {
   "display_name": "Python 3 (ipykernel)",
   "language": "python",
   "name": "python3"
  },
  "language_info": {
   "codemirror_mode": {
    "name": "ipython",
    "version": 3
   },
   "file_extension": ".py",
   "mimetype": "text/x-python",
   "name": "python",
   "nbconvert_exporter": "python",
   "pygments_lexer": "ipython3",
   "version": "3.9.7"
  }
 },
 "nbformat": 4,
 "nbformat_minor": 5
}
